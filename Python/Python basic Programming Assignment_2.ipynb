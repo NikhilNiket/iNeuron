{
 "cells": [
  {
   "cell_type": "raw",
   "metadata": {},
   "source": [
    "1. Write a Python program to convert kilometers to miles?"
   ]
  },
  {
   "cell_type": "code",
   "execution_count": 20,
   "metadata": {},
   "outputs": [
    {
     "name": "stdout",
     "output_type": "stream",
     "text": [
      "Enter the Kilometer100\n",
      "62.15040397762586\n"
     ]
    }
   ],
   "source": [
    "km = int(input('Enter the Kilometer'))\n",
    "miles = (km/1.609)\n",
    "print(miles)"
   ]
  },
  {
   "cell_type": "raw",
   "metadata": {},
   "source": [
    "2. Write a Python program to convert Celsius to Fahrenheit?"
   ]
  },
  {
   "cell_type": "code",
   "execution_count": 27,
   "metadata": {},
   "outputs": [
    {
     "name": "stdout",
     "output_type": "stream",
     "text": [
      "Enter the temperature in Celcius: 110\n",
      "The temperature in Fahrenheit 230.0\n"
     ]
    }
   ],
   "source": [
    "temp = int(input('Enter the temperature in Celcius: '))\n",
    "\n",
    "f = (temp*1.8)+32\n",
    "\n",
    "print('The temperature in Fahrenheit',f)"
   ]
  },
  {
   "cell_type": "raw",
   "metadata": {},
   "source": [
    "3. Write a Python program to display calendar?"
   ]
  },
  {
   "cell_type": "code",
   "execution_count": 31,
   "metadata": {},
   "outputs": [
    {
     "name": "stdout",
     "output_type": "stream",
     "text": [
      "Enter year: 2021\n",
      "Enter month: 5\n",
      "      May 2021\n",
      "Mo Tu We Th Fr Sa Su\n",
      "                1  2\n",
      " 3  4  5  6  7  8  9\n",
      "10 11 12 13 14 15 16\n",
      "17 18 19 20 21 22 23\n",
      "24 25 26 27 28 29 30\n",
      "31\n",
      "\n"
     ]
    }
   ],
   "source": [
    "import calendar\n",
    "\n",
    "year = int(input(\"Enter year: \"))\n",
    "month = int(input(\"Enter month: \"))\n",
    "\n",
    "print(calendar.month(year, month))"
   ]
  },
  {
   "cell_type": "raw",
   "metadata": {},
   "source": [
    "4. Write a Python program to solve quadratic equation?"
   ]
  },
  {
   "cell_type": "code",
   "execution_count": 33,
   "metadata": {},
   "outputs": [
    {
     "name": "stdout",
     "output_type": "stream",
     "text": [
      "Enter a: 3\n",
      "Enter b: 4\n",
      "Enter c: 6\n",
      "The solution are (-0.6666666666666666-1.247219128924647j) and (-0.6666666666666666+1.247219128924647j)\n"
     ]
    }
   ],
   "source": [
    "import cmath  \n",
    "a = float(input('Enter a: '))  \n",
    "b = float(input('Enter b: '))  \n",
    "c = float(input('Enter c: '))  \n",
    "  \n",
    "d = (b**2) - (4*a*c)  \n",
    "  \n",
    "d1 = (-b-cmath.sqrt(d))/(2*a)  \n",
    "d2 = (-b+cmath.sqrt(d))/(2*a)  \n",
    "\n",
    "\n",
    "print('The solution are {0} and {1}'.format(d1,d2))   "
   ]
  },
  {
   "cell_type": "raw",
   "metadata": {},
   "source": [
    "5. Write a Python program to swap two variables without temp variable?"
   ]
  },
  {
   "cell_type": "code",
   "execution_count": 21,
   "metadata": {},
   "outputs": [
    {
     "name": "stdout",
     "output_type": "stream",
     "text": [
      "Enter the value of x: 65\n",
      "Enter the value of y: 87\n",
      "Value of x :  65  and y :  87\n",
      "After swapping: \n",
      "Value of x :  87  and y :  65\n"
     ]
    }
   ],
   "source": [
    "x = int(input('Enter the value of x: '))\n",
    "y = int(input('Enter the value of y: '))\n",
    " \n",
    "print(\"Value of x : \", x, \" and y : \", y)\n",
    " \n",
    "\n",
    "x = x + y \n",
    "y = x - y \n",
    "x = x - y \n",
    " \n",
    "print (\"After swapping: \")\n",
    "print(\"Value of x : \", x, \" and y : \", y)"
   ]
  }
 ],
 "metadata": {
  "kernelspec": {
   "display_name": "Python 3",
   "language": "python",
   "name": "python3"
  },
  "language_info": {
   "codemirror_mode": {
    "name": "ipython",
    "version": 3
   },
   "file_extension": ".py",
   "mimetype": "text/x-python",
   "name": "python",
   "nbconvert_exporter": "python",
   "pygments_lexer": "ipython3",
   "version": "3.7.3"
  }
 },
 "nbformat": 4,
 "nbformat_minor": 4
}
