{
 "cells": [
  {
   "cell_type": "raw",
   "metadata": {},
   "source": [
    "1. Write a Python program to print \"Hello Python\"?"
   ]
  },
  {
   "cell_type": "code",
   "execution_count": 1,
   "metadata": {},
   "outputs": [
    {
     "name": "stdout",
     "output_type": "stream",
     "text": [
      "Hello Python\n"
     ]
    }
   ],
   "source": [
    "print(\"Hello Python\")"
   ]
  },
  {
   "cell_type": "raw",
   "metadata": {},
   "source": [
    "2. Write a Python program to do arithmetical operations addition and division.?"
   ]
  },
  {
   "cell_type": "code",
   "execution_count": 3,
   "metadata": {},
   "outputs": [
    {
     "name": "stdout",
     "output_type": "stream",
     "text": [
      "Enter the first number35\n",
      "Enter the second number8\n",
      "The sum of a and b is 43\n",
      "The division of a and b is 4.375\n"
     ]
    }
   ],
   "source": [
    "a = int(input('Enter the first number'))\n",
    "b = int(input('Enter the second number'))\n",
    "\n",
    "print('The sum of a and b is',a+b)\n",
    "print('The division of a and b is',a/b)\n"
   ]
  },
  {
   "cell_type": "code",
   "execution_count": null,
   "metadata": {},
   "outputs": [],
   "source": [
    "3. Write a Python program to find the area of a triangle?\n"
   ]
  },
  {
   "cell_type": "code",
   "execution_count": 5,
   "metadata": {},
   "outputs": [
    {
     "name": "stdout",
     "output_type": "stream",
     "text": [
      "Enter the base of the Triangle : 12\n",
      "Enter the height of Triangle : 6\n",
      "The area of the triangle is: 36.0\n"
     ]
    }
   ],
   "source": [
    "base = int(input('Enter the base of the Triangle : '))\n",
    "height =  int(input('Enter the height of Triangle : '))\n",
    "\n",
    "print('The area of the triangle is:',0.5*base*height)"
   ]
  },
  {
   "cell_type": "raw",
   "metadata": {},
   "source": [
    "4. Write a Python program to swap two variables?"
   ]
  },
  {
   "cell_type": "code",
   "execution_count": 8,
   "metadata": {},
   "outputs": [
    {
     "name": "stdout",
     "output_type": "stream",
     "text": [
      "Enter the value of x: 23\n",
      "Enter the value of y: 66\n",
      "Before swapping: \n",
      "Value of x :  23  and y :  66\n",
      "After swapping: \n",
      "Value of x :  66  and y :  23\n"
     ]
    }
   ],
   "source": [
    "x = int(input('Enter the value of x: '))\n",
    "y = int(input('Enter the value of y: '))\n",
    " \n",
    "print (\"Before swapping: \")\n",
    "print(\"Value of x : \", x, \" and y : \", y)\n",
    " \n",
    "\n",
    "x = x + y \n",
    "y = x - y \n",
    "x = x - y \n",
    " \n",
    "print (\"After swapping: \")\n",
    "print(\"Value of x : \", x, \" and y : \", y)"
   ]
  },
  {
   "cell_type": "raw",
   "metadata": {},
   "source": [
    "5. Write a Python program to generate a random number?"
   ]
  },
  {
   "cell_type": "code",
   "execution_count": 18,
   "metadata": {},
   "outputs": [
    {
     "name": "stdout",
     "output_type": "stream",
     "text": [
      "66\n",
      "1\n"
     ]
    }
   ],
   "source": [
    "import random\n",
    "\n",
    "l = [1, 2, 3, 4, 5, 6,44,66,78,23,97,46]\n",
    "print(random.choice(l))\n",
    "print(random.randint(0,9))"
   ]
  },
  {
   "cell_type": "code",
   "execution_count": null,
   "metadata": {},
   "outputs": [],
   "source": []
  }
 ],
 "metadata": {
  "kernelspec": {
   "display_name": "Python 3",
   "language": "python",
   "name": "python3"
  },
  "language_info": {
   "codemirror_mode": {
    "name": "ipython",
    "version": 3
   },
   "file_extension": ".py",
   "mimetype": "text/x-python",
   "name": "python",
   "nbconvert_exporter": "python",
   "pygments_lexer": "ipython3",
   "version": "3.7.3"
  }
 },
 "nbformat": 4,
 "nbformat_minor": 4
}
