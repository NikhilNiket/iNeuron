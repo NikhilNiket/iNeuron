{
  "nbformat": 4,
  "nbformat_minor": 0,
  "metadata": {
    "colab": {
      "name": "Python_Basic_Programming_Assignment_4.ipynb",
      "provenance": [],
      "collapsed_sections": []
    },
    "kernelspec": {
      "name": "python3",
      "display_name": "Python 3"
    },
    "language_info": {
      "name": "python"
    }
  },
  "cells": [
    {
      "cell_type": "markdown",
      "metadata": {
        "id": "eGzoOyG2Wvgk"
      },
      "source": [
        "1. Write a Python Program to Find LCM?"
      ]
    },
    {
      "cell_type": "code",
      "metadata": {
        "id": "W0UQv8uKWzNt"
      },
      "source": [
        " def gcd(a,b):\n",
        "    if a == 0:\n",
        "        return b\n",
        "    return gcd(b % a, a)\n",
        " \n",
        "# Function to return LCM of two numbers\n",
        "def lcm(a,b):\n",
        "    return (a / gcd(a,b))* b"
      ],
      "execution_count": 6,
      "outputs": []
    },
    {
      "cell_type": "code",
      "metadata": {
        "colab": {
          "base_uri": "https://localhost:8080/"
        },
        "id": "zOWZOp0eEwNE",
        "outputId": "fb481592-8dfd-4059-d743-2fd92ccb5e53"
      },
      "source": [
        "lcm(15,22)"
      ],
      "execution_count": 11,
      "outputs": [
        {
          "output_type": "execute_result",
          "data": {
            "text/plain": [
              "330.0"
            ]
          },
          "metadata": {
            "tags": []
          },
          "execution_count": 11
        }
      ]
    },
    {
      "cell_type": "markdown",
      "metadata": {
        "id": "32ClVf2nEuQN"
      },
      "source": [
        "2. Write a Python Program to Find HCF?"
      ]
    },
    {
      "cell_type": "code",
      "metadata": {
        "colab": {
          "base_uri": "https://localhost:8080/"
        },
        "id": "KmCev5PwDxRS",
        "outputId": "7a9434b9-783d-47b8-c6bf-73ea5641c117"
      },
      "source": [
        "x = int(input(\"Enter first number: \"))  \n",
        "y = int(input(\"Enter second number: \"))  \n",
        "if x > y:  \n",
        "    smaller = y  \n",
        "else:  \n",
        "    smaller = x  \n",
        "for i in range(1,smaller + 1):\n",
        "  if((x % i == 0) and (y % i == 0)):\n",
        "    hcf = i  \n",
        "\n",
        "print(\"The H.C.F. of\", x,\"and\", x,\"is\", hcf)"
      ],
      "execution_count": 13,
      "outputs": [
        {
          "output_type": "stream",
          "text": [
            "Enter first number: 34\n",
            "Enter second number: 54\n",
            "The H.C.F. of 34 and 34 is 2\n"
          ],
          "name": "stdout"
        }
      ]
    },
    {
      "cell_type": "markdown",
      "metadata": {
        "id": "uvIM9-w5FNA9"
      },
      "source": [
        "3. Write a Python Program to Convert Decimal to Binary, Octal and Hexadecimal?"
      ]
    },
    {
      "cell_type": "code",
      "metadata": {
        "colab": {
          "base_uri": "https://localhost:8080/"
        },
        "id": "7DxEjdvdEj_8",
        "outputId": "3b6751bc-8c16-4204-a3a8-1f57e7610186"
      },
      "source": [
        "a = int(input('Enter the Number:'))\n",
        "\n",
        "print('The binary of the number is:',bin(a))\n",
        "print('The Octal of the number is:',oct(a))\n",
        "print('The Hexadecimal of the number is:',hex(a))"
      ],
      "execution_count": 19,
      "outputs": [
        {
          "output_type": "stream",
          "text": [
            "Enter the Number:10\n",
            "The binary of the number is: 0b1010\n",
            "The Octal of the number is: 0o12\n",
            "The Hexadecimal of the number is: 0xa\n"
          ],
          "name": "stdout"
        }
      ]
    },
    {
      "cell_type": "markdown",
      "metadata": {
        "id": "L1jkDzS_GEBF"
      },
      "source": [
        " Write a Python Program To Find ASCII value of a character?"
      ]
    },
    {
      "cell_type": "code",
      "metadata": {
        "colab": {
          "base_uri": "https://localhost:8080/"
        },
        "id": "4Rl3YwHiFQLq",
        "outputId": "502f0dde-2cda-412b-af2c-78cf0fe49187"
      },
      "source": [
        "a = input('Enter the character: ')\n",
        "print('The ASCII value of the character is',ord(a))"
      ],
      "execution_count": 23,
      "outputs": [
        {
          "output_type": "stream",
          "text": [
            "Enter the character: r\n",
            "The ASCII value of the character is 114\n"
          ],
          "name": "stdout"
        }
      ]
    },
    {
      "cell_type": "markdown",
      "metadata": {
        "id": "VusG4SeJGm3U"
      },
      "source": [
        "5. Write a Python Program to Make a Simple Calculator with 4 basic mathematical operations?"
      ]
    },
    {
      "cell_type": "code",
      "metadata": {
        "colab": {
          "base_uri": "https://localhost:8080/"
        },
        "id": "4LDtVeP1Gobm",
        "outputId": "684998dc-3bdd-4fd5-a3e5-850ffae9daae"
      },
      "source": [
        "def add(x, y):\n",
        "    return x + y\n",
        "\n",
        "# This function subtracts two numbers\n",
        "def subtract(x, y):\n",
        "    return x - y\n",
        "\n",
        "# This function multiplies two numbers\n",
        "def multiply(x, y):\n",
        "    return x * y\n",
        "\n",
        "# This function divides two numbers\n",
        "def divide(x, y):\n",
        "    return x / y\n",
        "\n",
        "\n",
        "print(\"Select operation.\")\n",
        "print(\"1.Add\")\n",
        "print(\"2.Subtract\")\n",
        "print(\"3.Multiply\")\n",
        "print(\"4.Divide\")\n",
        "\n",
        "while True:\n",
        "    # Take input from the user\n",
        "    choice = input(\"Enter choice(1/2/3/4): \")\n",
        "\n",
        "    # Check if choice is one of the four options\n",
        "    if choice in ('1', '2', '3', '4'):\n",
        "        num1 = float(input(\"Enter first number: \"))\n",
        "        num2 = float(input(\"Enter second number: \"))\n",
        "\n",
        "        if choice == '1':\n",
        "            print(num1, \"+\", num2, \"=\", add(num1, num2))\n",
        "\n",
        "        elif choice == '2':\n",
        "            print(num1, \"-\", num2, \"=\", subtract(num1, num2))\n",
        "\n",
        "        elif choice == '3':\n",
        "            print(num1, \"*\", num2, \"=\", multiply(num1, num2))\n",
        "\n",
        "        elif choice == '4':\n",
        "            print(num1, \"/\", num2, \"=\", divide(num1, num2))\n",
        "        break\n",
        "    else:\n",
        "        print(\"Invalid Input\")\n",
        "\n"
      ],
      "execution_count": 25,
      "outputs": [
        {
          "output_type": "stream",
          "text": [
            "Select operation.\n",
            "1.Add\n",
            "2.Subtract\n",
            "3.Multiply\n",
            "4.Divide\n",
            "Enter choice(1/2/3/4): 2\n",
            "Enter first number: 15\n",
            "Enter second number: 3\n",
            "15.0 - 3.0 = 12.0\n"
          ],
          "name": "stdout"
        }
      ]
    },
    {
      "cell_type": "code",
      "metadata": {
        "id": "uSXbFzekHRTT"
      },
      "source": [
        ""
      ],
      "execution_count": null,
      "outputs": []
    }
  ]
}