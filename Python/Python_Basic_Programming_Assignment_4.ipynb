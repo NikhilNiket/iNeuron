{
  "nbformat": 4,
  "nbformat_minor": 0,
  "metadata": {
    "colab": {
      "name": "Python Basic Programming Assignment_4.ipynb",
      "provenance": [],
      "collapsed_sections": []
    },
    "kernelspec": {
      "name": "python3",
      "display_name": "Python 3"
    },
    "language_info": {
      "name": "python"
    }
  },
  "cells": [
    {
      "cell_type": "markdown",
      "metadata": {
        "id": "CECIG7ZHOlKZ"
      },
      "source": [
        "Write a Python Program to Find the Factorial of a Number?\n"
      ]
    },
    {
      "cell_type": "code",
      "metadata": {
        "colab": {
          "base_uri": "https://localhost:8080/"
        },
        "id": "SxNR9dbHOnG7",
        "outputId": "2bc9b114-7a8c-4f97-f718-a8e9443a46fb"
      },
      "source": [
        "num = int(input(\"Enter a number: \"))\n",
        "\n",
        "factorial = 1\n",
        "\n",
        "if num < 0:\n",
        "   print(\"Sorry, factorial does not exist for negative numbers\")\n",
        "elif num == 0:\n",
        "   print(\"The factorial of 0 is 1\")\n",
        "else:\n",
        "   for i in range(1,num + 1):\n",
        "       factorial = factorial*i\n",
        "   print(\"The factorial of\",num,\"is\",factorial)"
      ],
      "execution_count": 4,
      "outputs": [
        {
          "output_type": "stream",
          "text": [
            "Enter a number: 2\n",
            "The factorial of 2 is 2\n"
          ],
          "name": "stdout"
        }
      ]
    },
    {
      "cell_type": "markdown",
      "metadata": {
        "id": "BBa31ay1Q9yi"
      },
      "source": [
        "2. Write a Python Program to Display the multiplication Table?"
      ]
    },
    {
      "cell_type": "code",
      "metadata": {
        "colab": {
          "base_uri": "https://localhost:8080/"
        },
        "id": "0roVj_GGQrry",
        "outputId": "6b64b9d5-a1fb-49f2-b709-31e861c6f8b3"
      },
      "source": [
        " num = int(input(\"Multiplication Table of:\"))\n",
        "\n",
        "for i in range(1, 11):\n",
        "   print(num, 'x', i, '=', num*i)"
      ],
      "execution_count": 6,
      "outputs": [
        {
          "output_type": "stream",
          "text": [
            "Multiplication Table of:7\n",
            "7 x 1 = 7\n",
            "7 x 2 = 14\n",
            "7 x 3 = 21\n",
            "7 x 4 = 28\n",
            "7 x 5 = 35\n",
            "7 x 6 = 42\n",
            "7 x 7 = 49\n",
            "7 x 8 = 56\n",
            "7 x 9 = 63\n",
            "7 x 10 = 70\n"
          ],
          "name": "stdout"
        }
      ]
    },
    {
      "cell_type": "markdown",
      "metadata": {
        "id": "NQbhsiFDRVhF"
      },
      "source": [
        "3. Write a Python Program to Print the Fibonacci sequence?"
      ]
    },
    {
      "cell_type": "code",
      "metadata": {
        "colab": {
          "base_uri": "https://localhost:8080/"
        },
        "id": "6jZc9fxORB5n",
        "outputId": "d82f34e6-42ee-4967-ae79-0014c0454a65"
      },
      "source": [
        "nterms = int(input(\"How many terms? \"))\n",
        "\n",
        "n1, n2 = 0, 1\n",
        "count = 0\n",
        "\n",
        "\n",
        "if nterms <= 0:\n",
        "   print(\"Please enter a positive integer\")\n",
        "\n",
        "elif nterms == 1:\n",
        "   print(\"Fibonacci sequence upto\",nterms,\":\")\n",
        "   print(n1)\n",
        "else:\n",
        "   print(\"Fibonacci sequence:\")\n",
        "   while count < nterms:\n",
        "       print(n1)\n",
        "       nth = n1 + n2\n",
        "       n1 = n2\n",
        "       n2 = nth\n",
        "       count += 1"
      ],
      "execution_count": 8,
      "outputs": [
        {
          "output_type": "stream",
          "text": [
            "How many terms? 6\n",
            "Fibonacci sequence:\n",
            "0\n",
            "1\n",
            "1\n",
            "2\n",
            "3\n",
            "5\n"
          ],
          "name": "stdout"
        }
      ]
    },
    {
      "cell_type": "markdown",
      "metadata": {
        "id": "yEsFawRGR7w4"
      },
      "source": [
        "4. Write a Python Program to Check Armstrong Number?"
      ]
    },
    {
      "cell_type": "code",
      "metadata": {
        "colab": {
          "base_uri": "https://localhost:8080/"
        },
        "id": "gdUetll_Rs-w",
        "outputId": "632ebdfc-c244-4412-966d-fc562cd5c714"
      },
      "source": [
        "num = int(input(\"Enter a number: \"))\n",
        "sum = 0\n",
        "\n",
        "temp = num\n",
        "while temp > 0:\n",
        "   digit = temp % 10\n",
        "   sum += digit ** 3\n",
        "   temp //= 10\n",
        "\n",
        "if num == sum:\n",
        "   print(num,\"is an Armstrong number\")\n",
        "else:\n",
        "   print(num,\"is not an Armstrong number\")"
      ],
      "execution_count": 11,
      "outputs": [
        {
          "output_type": "stream",
          "text": [
            "Enter a number: 407\n",
            "407 is an Armstrong number\n"
          ],
          "name": "stdout"
        }
      ]
    },
    {
      "cell_type": "markdown",
      "metadata": {
        "id": "E_edqgnnSkt2"
      },
      "source": [
        "5. Write a Python Program to Find Armstrong Number in an Interval?"
      ]
    },
    {
      "cell_type": "code",
      "metadata": {
        "colab": {
          "base_uri": "https://localhost:8080/"
        },
        "id": "7fPeNB-CSTGL",
        "outputId": "309fea21-fda2-4a2c-9500-497d73062a76"
      },
      "source": [
        "lower = 100\n",
        "upper = 2000\n",
        "\n",
        "for num in range(lower, upper + 1):\n",
        "\n",
        "   order = len(str(num))\n",
        "    \n",
        "   sum = 0\n",
        "\n",
        "   temp = num\n",
        "   while temp > 0:\n",
        "       digit = temp % 10\n",
        "       sum += digit ** order\n",
        "       temp //= 10\n",
        "\n",
        "   if num == sum:\n",
        "       print(num)"
      ],
      "execution_count": 13,
      "outputs": [
        {
          "output_type": "stream",
          "text": [
            "153\n",
            "370\n",
            "371\n",
            "407\n",
            "1634\n"
          ],
          "name": "stdout"
        }
      ]
    },
    {
      "cell_type": "markdown",
      "metadata": {
        "id": "Wyh-XpHyS4cW"
      },
      "source": [
        "6. Write a Python Program to Find the Sum of Natural Numbers?"
      ]
    },
    {
      "cell_type": "code",
      "metadata": {
        "colab": {
          "base_uri": "https://localhost:8080/"
        },
        "id": "BRSgxLUfSycm",
        "outputId": "da3f0fa2-b0b8-4b5c-fbca-82b330755391"
      },
      "source": [
        "num = int(input())\n",
        "\n",
        "if num < 0:\n",
        "   print(\"Enter a positive number\")\n",
        "else:\n",
        "   sum = 0\n",
        "   # use while loop to iterate until zero\n",
        "   while(num > 0):\n",
        "       sum += num\n",
        "       num -= 1\n",
        "   print(\"The sum is\", sum)"
      ],
      "execution_count": 15,
      "outputs": [
        {
          "output_type": "stream",
          "text": [
            "9\n",
            "The sum is 45\n"
          ],
          "name": "stdout"
        }
      ]
    }
  ]
}